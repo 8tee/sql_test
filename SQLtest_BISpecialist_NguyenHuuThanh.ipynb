{
 "cells": [
  {
   "cell_type": "code",
   "execution_count": 1,
   "metadata": {},
   "outputs": [],
   "source": [
    "%load_ext sql"
   ]
  },
  {
   "cell_type": "code",
   "execution_count": 2,
   "metadata": {},
   "outputs": [],
   "source": [
    "%sql mssql+pyodbc://root@DESKTOP-G1H2LMS/HOMECREDIT?trusted_connection=yes&driver=SQL+Server"
   ]
  },
  {
   "cell_type": "markdown",
   "metadata": {},
   "source": [
    "### 1. Report the all the loan contracts which just have been signed in January 2022, and all the loan contracts of which installment should be collected in January 2022.\n",
    "• The result should provide a table report with data of contract numbers, signed dates, installment paid dates, loan amounts, and data of clients related to the contracts including full names, date of birth, and addresses"
   ]
  },
  {
   "cell_type": "markdown",
   "metadata": {},
   "source": [
    "### Answer\n",
    "- As the data's latest signing date is on 9/7/2013 and the main purpose of this test is to showcase my SQL abilities, I will instead query all the loan contracts which were signed in January, 2013 and all the contracts of which installments were to be collected in January, 2013"
   ]
  },
  {
   "cell_type": "code",
   "execution_count": 3,
   "metadata": {},
   "outputs": [
    {
     "name": "stdout",
     "output_type": "stream",
     "text": [
      " * mssql+pyodbc://root@DESKTOP-G1H2LMS/HOMECREDIT?driver=SQL+Server&trusted_connection=yes\n",
      "Done.\n"
     ]
    },
    {
     "data": {
      "text/html": [
       "<table>\n",
       "    <tr>\n",
       "        <th>max_signing_date</th>\n",
       "    </tr>\n",
       "    <tr>\n",
       "        <td>2013-09-07</td>\n",
       "    </tr>\n",
       "</table>"
      ],
      "text/plain": [
       "[('2013-09-07',)]"
      ]
     },
     "execution_count": 3,
     "metadata": {},
     "output_type": "execute_result"
    }
   ],
   "source": [
    "# Select the latest signed contract's date in the data\n",
    "%sql SELECT MAX(DATE_SIGNATURE_CONTRACT) as max_signing_date FROM dbo.DC_CONTRACT    "
   ]
  },
  {
   "cell_type": "code",
   "execution_count": 4,
   "metadata": {},
   "outputs": [
    {
     "name": "stdout",
     "output_type": "stream",
     "text": [
      " * mssql+pyodbc://root@DESKTOP-G1H2LMS/HOMECREDIT?driver=SQL+Server&trusted_connection=yes\n",
      "Done.\n"
     ]
    },
    {
     "data": {
      "text/html": [
       "<table>\n",
       "    <tr>\n",
       "        <th>CONTRACT_NUMBER</th>\n",
       "        <th>SIGNED_DATE</th>\n",
       "        <th>INSTALLMENT_PAID_DATES</th>\n",
       "        <th>LOAN_AMOUNT</th>\n",
       "        <th>CLIENT_FIRST_NAME</th>\n",
       "        <th>CLIENT_BIRTHDATE</th>\n",
       "        <th>CLIENT_ADDRESS</th>\n",
       "    </tr>\n",
       "    <tr>\n",
       "        <td>3140005704</td>\n",
       "        <td>2013-09-01</td>\n",
       "        <td>2014-03-01</td>\n",
       "        <td>3432000.0</td>\n",
       "        <td>MINH</td>\n",
       "        <td>1991-10-11</td>\n",
       "        <td>Nam Ki Khoi Nghia St., Ward 18, 10, TP.HCM, VIET NAM</td>\n",
       "    </tr>\n",
       "    <tr>\n",
       "        <td>3140012036</td>\n",
       "        <td>2013-09-01</td>\n",
       "        <td>2014-02-01</td>\n",
       "        <td>7693000.0</td>\n",
       "        <td>LE</td>\n",
       "        <td>1985-01-01</td>\n",
       "        <td>Le Lai St., Ward 11, VUNG TAU, BA RIA VUNG TAU, VIET NAM</td>\n",
       "    </tr>\n",
       "</table>"
      ],
      "text/plain": [
       "[('3140005704', '2013-09-01', '2014-03-01', 3432000.0, 'MINH', '1991-10-11', 'Nam Ki Khoi Nghia St., Ward 18, 10, TP.HCM, VIET NAM'),\n",
       " ('3140012036', '2013-09-01', '2014-02-01', 7693000.0, 'LE', '1985-01-01', 'Le Lai St., Ward 11, VUNG TAU, BA RIA VUNG TAU, VIET NAM')]"
      ]
     },
     "execution_count": 4,
     "metadata": {},
     "output_type": "execute_result"
    }
   ],
   "source": [
    "%%sql \n",
    "SELECT CO.TEXT_CONTRACT_NUMBER AS CONTRACT_NUMBER\n",
    "       ,MIN(CAST(CO.DATE_SIGNATURE_CONTRACT AS DATE)) AS SIGNED_DATE\n",
    "       ,MAX(CAST(CO.DATE_LAST_PAYMENT AS DATE)) AS INSTALLMENT_PAID_DATES\n",
    "       ,SUM(F.AMT_CREDIT_LOAN) AS LOAN_AMOUNT\n",
    "       ,MAX(CL.NAME_CLIENT) AS CLIENT_FIRST_NAME\n",
    "       ,MAX(CAST(CL.DATE_BIRTH AS DATE)) AS CLIENT_BIRTHDATE\n",
    "       ,COALESCE(MAX(A.NAME_STREET) + 'St., ', '') \n",
    "       + COALESCE('Ward ' + MAX(A.NAME_WARD) + ', ', '') \n",
    "       + COALESCE(MAX(A.NAME_DISTICT) + ', ', '') \n",
    "       + COALESCE(MAX(A.NAME_PROVINCE) + ', ', '') \n",
    "       + COALESCE(MAX(A.NAME_COUNTRY),'') AS CLIENT_ADDRESS\n",
    "FROM DC_CONTRACT CO JOIN F_CONTRACT_BASE_AD F ON CO.SKP_CONTRACT = F.SKP_CONTRACT\n",
    "                    JOIN DC_CLIENT CL ON F.SKP_CLIENT = CL.SKP_CLIENT\n",
    "                    JOIN DC_ADDRESS A ON CL.SKP_ADDRESS = A.SKP_ADDERSS\n",
    "WHERE CAST(CO.DATE_SIGNATURE_CONTRACT AS DATE) >= '2013-01-01' AND CAST(CO.DATE_LAST_PAYMENT AS DATE) >= '2013-01-01' \n",
    "GROUP BY TEXT_CONTRACT_NUMBER\n"
   ]
  },
  {
   "cell_type": "markdown",
   "metadata": {},
   "source": [
    "2. Report the sales performance (sales & profits) of whole year 2021 of each product and each \n",
    "region: Hanoi, Ho Chi Minh City, Da Nang City, and Others (the rest of the provinces) in absolute \n",
    "numbers and in percentage shares"
   ]
  },
  {
   "cell_type": "markdown",
   "metadata": {},
   "source": [
    "### Answer\n",
    "With my own knowledge, as "
   ]
  },
  {
   "cell_type": "code",
   "execution_count": 15,
   "metadata": {},
   "outputs": [
    {
     "name": "stdout",
     "output_type": "stream",
     "text": [
      " * mssql+pyodbc://root@DESKTOP-G1H2LMS/HOMECREDIT?driver=SQL+Server&trusted_connection=yes\n",
      "(pyodbc.ProgrammingError) ('42000', \"[42000] [Microsoft][ODBC SQL Server Driver][SQL Server]Recursive common table expression 'CTE_F' does not contain a top-level UNION ALL operator. (252) (SQLExecDirectW)\")\n",
      "[SQL: WITH CTE_F AS (\n",
      "    SELECT\n",
      "        P.PRODUCT_CODE\n",
      "       ,P.PRODUCT_NAME\n",
      "     \n",
      "    FROM DC_PRODUCT P JOIN CTE_F F ON P.SKP_PRODUCT = F.SKP_PRODUCT\n",
      "                  JOIN DC_SALEROOMS S ON F.SKP_SALESROOM = S.SKP_SALESROOM\n",
      "                  JOIN DC_ADDRESS D ON S.SKP_ADDERSS = A.SKP_ADDERSS\n",
      ")\n",
      "\n",
      "SELECT *\n",
      "FROM CTE_F]\n",
      "(Background on this error at: https://sqlalche.me/e/14/f405)\n"
     ]
    }
   ],
   "source": [
    "%%sql\n",
    "WITH CTE_F AS (\n",
    "    SELECT\n",
    "        P.PRODUCT_CODE\n",
    "       ,P.PRODUCT_NAME\n",
    "       ,CASE WHEN A.NAME_PROVINCE IN ('TP.HCM') THEN 'Ho Chi Minh City'\n",
    "             WHEN A.NAME_PROVINCE IN ('DA NANG') THEN 'Da Nang City'\n",
    "             WHEN A.NAME_PROVINCE IN ('HA NOI') THEN 'Hanoi'\n",
    "             ELSE ('Others') \n",
    "        END AS REGION\n",
    "        ,(F.AMT_DOWN_PAYMENT - F.AMT_PRINCIPAL + F.AMT_INTEREST - F.AMT_PROVISION - F.AMT_INSURANCE) AS PROFIT\n",
    "        ,(F.AMT_DOWN_PAYMENT + F.AMT_INTEREST) AS SALES\n",
    "    FROM DC_PRODUCT P JOIN CTE_F F ON P.SKP_PRODUCT = F.SKP_PRODUCT\n",
    "                  JOIN DC_SALEROOMS S ON F.SKP_SALESROOM = S.SKP_SALESROOM\n",
    "                  JOIN DC_ADDRESS D ON S.SKP_ADDERSS = A.SKP_ADDERSS\n",
    ")\n",
    "\n",
    "SELECT *\n",
    "FROM CTE_F"
   ]
  },
  {
   "cell_type": "code",
   "execution_count": null,
   "metadata": {},
   "outputs": [],
   "source": [
    "PRODUCT_CODE\n",
    "       ,PRODUCT_NAME\n",
    "       ,REGION\n",
    "       ,SUM(F.SALES) AS SALES\n",
    "       ,SUM(F.PROFIT) AS PROFIT\n",
    "       ,AVG(F.SALES) OVER(PARTITION BY REGION) AS PERCENTAGE_SALES\n",
    "       ,AVG(F.PROFIT) OVER(PARTITION BY REGION) AS PERCENTAGE_PROFIT"
   ]
  },
  {
   "cell_type": "code",
   "execution_count": 24,
   "metadata": {},
   "outputs": [
    {
     "name": "stdout",
     "output_type": "stream",
     "text": [
      " * mssql+pyodbc://root@DESKTOP-G1H2LMS/HOMECREDIT?driver=SQL+Server&trusted_connection=yes\n",
      "Done.\n"
     ]
    },
    {
     "data": {
      "text/html": [
       "<table>\n",
       "    <tr>\n",
       "        <th>PRODUCT_CODE</th>\n",
       "        <th>PRODUCT_NAME</th>\n",
       "        <th>REGION</th>\n",
       "        <th>SALES</th>\n",
       "        <th>PROFIT</th>\n",
       "        <th>PERCENTAGE_SALES</th>\n",
       "    </tr>\n",
       "    <tr>\n",
       "        <td>CD162</td>\n",
       "        <td>VIVO 5-10M</td>\n",
       "        <td>Hanoi</td>\n",
       "        <td>7470000.0</td>\n",
       "        <td>-7055000.0</td>\n",
       "        <td>1.0</td>\n",
       "    </tr>\n",
       "    <tr>\n",
       "        <td>CD162</td>\n",
       "        <td>VIVO 5-10M</td>\n",
       "        <td>Ho Chi Minh City</td>\n",
       "        <td>11530000.0</td>\n",
       "        <td>-6644000.0</td>\n",
       "        <td>0.26</td>\n",
       "    </tr>\n",
       "    <tr>\n",
       "        <td>CDS37</td>\n",
       "        <td>MW APPLE 8</td>\n",
       "        <td>Ho Chi Minh City</td>\n",
       "        <td>1287000.0</td>\n",
       "        <td>-965000.0</td>\n",
       "        <td>0.03</td>\n",
       "    </tr>\n",
       "    <tr>\n",
       "        <td>CDS40</td>\n",
       "        <td>MW DIEN MA</td>\n",
       "        <td>Ho Chi Minh City</td>\n",
       "        <td>30022316.0</td>\n",
       "        <td>-2178368.0</td>\n",
       "        <td>0.67</td>\n",
       "    </tr>\n",
       "    <tr>\n",
       "        <td>CDS41</td>\n",
       "        <td>FPT OPPO A</td>\n",
       "        <td>Ho Chi Minh City</td>\n",
       "        <td>1697816.0</td>\n",
       "        <td>-1460368.0</td>\n",
       "        <td>0.04</td>\n",
       "    </tr>\n",
       "</table>"
      ],
      "text/plain": [
       "[('CD162', 'VIVO 5-10M', 'Hanoi', 7470000.0, -7055000.0, 1.0),\n",
       " ('CD162', 'VIVO 5-10M', 'Ho Chi Minh City', 11530000.0, -6644000.0, 0.26),\n",
       " ('CDS37', 'MW APPLE 8', 'Ho Chi Minh City', 1287000.0, -965000.0, 0.03),\n",
       " ('CDS40', 'MW DIEN MA', 'Ho Chi Minh City', 30022316.0, -2178368.0, 0.67),\n",
       " ('CDS41', 'FPT OPPO A', 'Ho Chi Minh City', 1697816.0, -1460368.0, 0.04)]"
      ]
     },
     "execution_count": 24,
     "metadata": {},
     "output_type": "execute_result"
    }
   ],
   "source": [
    "%%sql\n",
    "WITH CTE_F AS (\n",
    "      SELECT \n",
    "            *\n",
    "            ,(AMT_DOWN_PAYMENT - AMT_PRINCIPAL + AMT_INTEREST - AMT_PROVISION - AMT_INSURANCE) AS PROFIT\n",
    "            ,(AMT_DOWN_PAYMENT + AMT_INTEREST) AS SALES\n",
    "      FROM  F_CONTRACT_BASE_AD \n",
    ")\n",
    ",CTE_A AS (\n",
    "      SELECT \n",
    "            *\n",
    "            ,CASE WHEN NAME_PROVINCE IN ('TP.HCM') THEN 'Ho Chi Minh City'\n",
    "             WHEN NAME_PROVINCE IN ('DA NANG') THEN 'Da Nang City'\n",
    "             WHEN NAME_PROVINCE IN ('HA NOI') THEN 'Hanoi'\n",
    "             ELSE ('Others') \n",
    "        END AS REGION\n",
    "      FROM DC_ADDRESS\n",
    ")\n",
    "\n",
    "\n",
    "SELECT P.PRODUCT_CODE\n",
    "       ,P.PRODUCT_NAME\n",
    "       ,A.REGION\n",
    "       ,SUM(F.SALES) AS SALES\n",
    "       ,SUM(F.PROFIT) AS PROFIT\n",
    "       ,ROUND(SUM(F.SALES) / (SUM(SUM(F.SALES)) OVER(PARTITION BY REGION)), 2) AS PERCENTAGE_SALES\n",
    "FROM DC_PRODUCT P JOIN CTE_F F ON P.SKP_PRODUCT = F.SKP_PRODUCT\n",
    "                  JOIN DC_SALEROOMS S ON F.SKP_SALESROOM = S.SKP_SALESROOM\n",
    "                  JOIN CTE_A A ON S.SKP_ADDERSS = A.SKP_ADDERSS\n",
    "\n",
    "GROUP BY P.PRODUCT_CODE, P.PRODUCT_NAME, A.REGION\n",
    "\n"
   ]
  },
  {
   "cell_type": "markdown",
   "metadata": {},
   "source": [
    "### 3. Report the numbers of old customers and new customers in each of four regions having newly signed contracts in Quarter 4 of 2021.\n",
    "• Get a list of top 100 customers who are currently having active contracts ranked based on numbers of active contracts and total loan amounts.\n",
    "\n",
    "• Assume that old customers are those who have signed at least one contract with the Home Credit VN before Quarter 4 of 2021, and new customers are those who have never had a contract with the Company before Quarter 4 of 2021. \n",
    "\n",
    "• Also assume that NAME_CONTRACT_STATUS contains Approved, Signed, Cancelled, and Finished."
   ]
  },
  {
   "cell_type": "code",
   "execution_count": 7,
   "metadata": {},
   "outputs": [
    {
     "name": "stdout",
     "output_type": "stream",
     "text": [
      " * mssql+pyodbc://root@DESKTOP-G1H2LMS/HOMECREDIT?driver=SQL+Server&trusted_connection=yes\n",
      "Done.\n"
     ]
    },
    {
     "data": {
      "text/html": [
       "<table>\n",
       "    <tr>\n",
       "        <th>REGION</th>\n",
       "        <th>TOTAL_NEW_CUSTOMERS</th>\n",
       "        <th>TOTAL_OLD_CUSTOMERS</th>\n",
       "    </tr>\n",
       "    <tr>\n",
       "        <td>Others</td>\n",
       "        <td>0</td>\n",
       "        <td>1</td>\n",
       "    </tr>\n",
       "    <tr>\n",
       "        <td>Ho Chi Minh City</td>\n",
       "        <td>0</td>\n",
       "        <td>1</td>\n",
       "    </tr>\n",
       "</table>"
      ],
      "text/plain": [
       "[('Others', 0, 1), ('Ho Chi Minh City', 0, 1)]"
      ]
     },
     "execution_count": 7,
     "metadata": {},
     "output_type": "execute_result"
    }
   ],
   "source": [
    "%%sql\n",
    "WITH CTE_CUSTOMER AS\n",
    "    (\n",
    "      SELECT CL.SKP_CLIENT, C.DATE_SIGNATURE_CONTRACT, A.NAME_PROVINCE \n",
    "      FROM DC_ADDRESS A JOIN DC_CLIENT CL ON A.SKP_ADDERSS = CL.SKP_ADDRESS \n",
    "                        JOIN F_CONTRACT_BASE_AD F ON CL.SKP_CLIENT = F.SKP_CLIENT \n",
    "                        JOIN DC_CONTRACT C ON F.SKP_CONTRACT = C.SKP_CONTRACT\n",
    "    )    \n",
    "SELECT \n",
    "    CASE WHEN NAME_PROVINCE IN ('TP.HCM') THEN 'Ho Chi Minh City'\n",
    "             WHEN NAME_PROVINCE IN ('DA NANG') THEN 'Da Nang City'\n",
    "             WHEN NAME_PROVINCE IN ('HA NOI') THEN 'Hanoi'\n",
    "             ELSE 'Others' \n",
    "    END AS REGION\n",
    "    ,COUNT(DISTINCT CASE WHEN CAST(DATE_SIGNATURE_CONTRACT AS DATE) >= '2013-10-01' THEN SKP_CLIENT END) AS TOTAL_NEW_CUSTOMERS\n",
    "    ,COUNT(DISTINCT CASE WHEN CAST(DATE_SIGNATURE_CONTRACT AS DATE) < '2013-10-01' THEN SKP_CLIENT END) AS TOTAL_OLD_CUSTOMERS\n",
    "FROM CTE_CUSTOMER \n",
    "GROUP BY NAME_PROVINCE\n",
    "    "
   ]
  },
  {
   "cell_type": "code",
   "execution_count": 8,
   "metadata": {},
   "outputs": [
    {
     "name": "stdout",
     "output_type": "stream",
     "text": [
      " * mssql+pyodbc://root@DESKTOP-G1H2LMS/HOMECREDIT?driver=SQL+Server&trusted_connection=yes\n",
      "Done.\n"
     ]
    },
    {
     "data": {
      "text/html": [
       "<table>\n",
       "    <tr>\n",
       "        <th>SKP_CLIENT</th>\n",
       "        <th>CLIENT_FIRST_NAME</th>\n",
       "        <th>NUMBER_OF_CONTRACTS</th>\n",
       "        <th>LOAN_AMOUNT</th>\n",
       "    </tr>\n",
       "    <tr>\n",
       "        <td>502422</td>\n",
       "        <td>MINH</td>\n",
       "        <td>4</td>\n",
       "        <td>13728000.0</td>\n",
       "    </tr>\n",
       "    <tr>\n",
       "        <td>3200785</td>\n",
       "        <td>HOA</td>\n",
       "        <td>1</td>\n",
       "        <td>30000000.0</td>\n",
       "    </tr>\n",
       "    <tr>\n",
       "        <td>3331518</td>\n",
       "        <td>THAO</td>\n",
       "        <td>1</td>\n",
       "        <td>24572000.0</td>\n",
       "    </tr>\n",
       "    <tr>\n",
       "        <td>2745335</td>\n",
       "        <td>LE</td>\n",
       "        <td>1</td>\n",
       "        <td>7693000.0</td>\n",
       "    </tr>\n",
       "    <tr>\n",
       "        <td>5886137</td>\n",
       "        <td>TAM</td>\n",
       "        <td>1</td>\n",
       "        <td>6293000.0</td>\n",
       "    </tr>\n",
       "    <tr>\n",
       "        <td>2793058</td>\n",
       "        <td>MINH</td>\n",
       "        <td>1</td>\n",
       "        <td>5694000.0</td>\n",
       "    </tr>\n",
       "    <tr>\n",
       "        <td>4681271</td>\n",
       "        <td>DUNG</td>\n",
       "        <td>1</td>\n",
       "        <td>3773000.0</td>\n",
       "    </tr>\n",
       "    <tr>\n",
       "        <td>192076</td>\n",
       "        <td>TOAN</td>\n",
       "        <td>1</td>\n",
       "        <td>3493000.0</td>\n",
       "    </tr>\n",
       "    <tr>\n",
       "        <td>3915968</td>\n",
       "        <td>SON</td>\n",
       "        <td>1</td>\n",
       "        <td>3380000.0</td>\n",
       "    </tr>\n",
       "</table>"
      ],
      "text/plain": [
       "[('502422', 'MINH', 4, 13728000.0),\n",
       " ('3200785', 'HOA', 1, 30000000.0),\n",
       " ('3331518', 'THAO', 1, 24572000.0),\n",
       " ('2745335', 'LE', 1, 7693000.0),\n",
       " ('5886137', 'TAM', 1, 6293000.0),\n",
       " ('2793058', 'MINH', 1, 5694000.0),\n",
       " ('4681271', 'DUNG', 1, 3773000.0),\n",
       " ('192076', 'TOAN', 1, 3493000.0),\n",
       " ('3915968', 'SON', 1, 3380000.0)]"
      ]
     },
     "execution_count": 8,
     "metadata": {},
     "output_type": "execute_result"
    }
   ],
   "source": [
    "%%sql \n",
    "SELECT TOP 100 CL.SKP_CLIENT\n",
    "               ,MAX(CL.NAME_CLIENT) AS CLIENT_FIRST_NAME\n",
    "               ,COUNT(C.SKP_CONTRACT) AS NUMBER_OF_CONTRACTS\n",
    "               ,SUM(F.AMT_CREDIT_LOAN) AS LOAN_AMOUNT\n",
    "FROM DC_CLIENT CL JOIN F_CONTRACT_BASE_AD F ON CL.SKP_CLIENT = F.SKP_CLIENT\n",
    "                 JOIN DC_CONTRACT C ON F.SKP_CONTRACT = C.SKP_CONTRACT\n",
    "                 JOIN CL_CONTRACT_STATUS S ON C.SKP_CONTRACT_STATUS = S.SKP_CREDIT_STATUS\n",
    "WHERE S.NAME_CREDIT_STATUS = 'Active'\n",
    "GROUP BY CL.SKP_CLIENT\n",
    "ORDER BY NUMBER_OF_CONTRACTS DESC, LOAN_AMOUNT DESC"
   ]
  },
  {
   "cell_type": "markdown",
   "metadata": {},
   "source": [
    "4. Categorized list of old customers into age segmentation: 18 – 23, 24 – 35, 36 – 50, and > 50"
   ]
  },
  {
   "cell_type": "code",
   "execution_count": 9,
   "metadata": {},
   "outputs": [
    {
     "name": "stdout",
     "output_type": "stream",
     "text": [
      " * mssql+pyodbc://root@DESKTOP-G1H2LMS/HOMECREDIT?driver=SQL+Server&trusted_connection=yes\n",
      "Done.\n"
     ]
    },
    {
     "data": {
      "text/html": [
       "<table>\n",
       "    <tr>\n",
       "        <th>SKP_CLIENT</th>\n",
       "        <th>NAME_CLIENT</th>\n",
       "        <th>AGE_SEGMENTATION</th>\n",
       "    </tr>\n",
       "    <tr>\n",
       "        <td>2745335</td>\n",
       "        <td>LE</td>\n",
       "        <td>36-50</td>\n",
       "    </tr>\n",
       "    <tr>\n",
       "        <td>502422</td>\n",
       "        <td>MINH</td>\n",
       "        <td>24-35</td>\n",
       "    </tr>\n",
       "</table>"
      ],
      "text/plain": [
       "[('2745335', 'LE', '36-50'), ('502422', 'MINH', '24-35')]"
      ]
     },
     "execution_count": 9,
     "metadata": {},
     "output_type": "execute_result"
    }
   ],
   "source": [
    "%%sql\n",
    "WITH CTE_CUSTOMER AS\n",
    "    (\n",
    "      SELECT CL.SKP_CLIENT\n",
    "            ,MAX(CL.NAME_CLIENT) AS NAME_CLIENT\n",
    "            ,DATEDIFF(year, MIN(CL.DATE_BIRTH), GETDATE()) AS AGE\n",
    "            ,MIN(C.DATE_SIGNATURE_CONTRACT) AS DATE_SIGNATURE_CONTRACT\n",
    "      FROM DC_ADDRESS A JOIN DC_CLIENT CL ON A.SKP_ADDERSS = CL.SKP_ADDRESS \n",
    "                        JOIN F_CONTRACT_BASE_AD F ON CL.SKP_CLIENT = F.SKP_CLIENT \n",
    "                        JOIN DC_CONTRACT C ON F.SKP_CONTRACT = C.SKP_CONTRACT\n",
    "      GROUP BY CL.SKP_CLIENT\n",
    "    )    \n",
    "\n",
    "SELECT SKP_CLIENT\n",
    "       ,NAME_CLIENT\n",
    "       ,CASE WHEN AGE BETWEEN 18 AND 23 THEN '18-23'\n",
    "             WHEN AGE BETWEEN 24 AND 35 THEN '24-35'\n",
    "             WHEN AGE BETWEEN 36 AND 50 THEN '36-50'\n",
    "             WHEN AGE > 50 THEN '>50'\n",
    "       END AS AGE_SEGMENTATION\n",
    "FROM CTE_CUSTOMER\n"
   ]
  },
  {
   "cell_type": "markdown",
   "metadata": {},
   "source": []
  }
 ],
 "metadata": {
  "interpreter": {
   "hash": "e43fee79c9b3f453f1c44535e1db31c8ea65ac2a63b0ed860943b8dd722cfa1c"
  },
  "kernelspec": {
   "display_name": "Python 3.9.10 64-bit (windows store)",
   "language": "python",
   "name": "python3"
  },
  "language_info": {
   "codemirror_mode": {
    "name": "ipython",
    "version": 3
   },
   "file_extension": ".py",
   "mimetype": "text/x-python",
   "name": "python",
   "nbconvert_exporter": "python",
   "pygments_lexer": "ipython3",
   "version": "3.9.10"
  },
  "orig_nbformat": 4
 },
 "nbformat": 4,
 "nbformat_minor": 2
}
